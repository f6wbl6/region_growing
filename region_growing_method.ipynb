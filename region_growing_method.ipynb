{
 "cells": [
  {
   "cell_type": "markdown",
   "metadata": {},
   "source": [
    "# Region Growing Method\n",
    "implemented 6 neighbors and 26 neighbors."
   ]
  },
  {
   "cell_type": "code",
   "execution_count": 2,
   "metadata": {
    "collapsed": true
   },
   "outputs": [],
   "source": [
    "\"\"\"\n",
    "Implementation\n",
    "6 neighbors\n",
    "\"\"\"\n",
    "import numpy as np\n",
    "\n",
    "def get_nbhd_6(pt, checked, dims):\n",
    "    # object : 6 neighbor hood\n",
    "    nbhd = []\n",
    "    # check pt values whether in range or not\n",
    "    # check under region focused points (x-1, y-1, z-1)\n",
    "    if not checked[pt[0]-1, pt[1], pt[2]]:\n",
    "        nbhd.append((pt[0]-1, pt[1], pt[2]))\n",
    "    if not checked[pt[0], pt[1]-1, pt[2]]:\n",
    "        nbhd.append((pt[0], pt[1]-1, pt[2]))\n",
    "    if not checked[pt[0], pt[1], pt[2]-1]:\n",
    "        nbhd.append((pt[0], pt[1], pt[2]-1))\n",
    "\n",
    "    # check upper region focused points (x+1, y+1, z+1)\n",
    "    if not checked[pt[0]+1, pt[1], pt[2]]:\n",
    "        nbhd.append((pt[0]+1, pt[1], pt[2]))\n",
    "    if not checked[pt[0], pt[1]+1, pt[2]]:\n",
    "        nbhd.append((pt[0], pt[1]+1, pt[2]))\n",
    "    if (pt[2] < dims[2]-1) and not checked[pt[0], pt[1], pt[2]+1]:\n",
    "        nbhd.append((pt[0], pt[1], pt[2]+1))\n",
    "\n",
    "    return nbhd\n",
    "\n",
    "def grow6(img, seed, t):\n",
    "    \"\"\"\n",
    "    img  : ndarray, ndim=3\n",
    "    seed : tuple, len=3\n",
    "    t    : int, range of average value\n",
    "     The image neighborhood radius for the inclusion criteria\n",
    "    \"\"\"\n",
    "    # segmented and checked volume\n",
    "    seg = np.zeros(img.shape, dtype=np.bool)\n",
    "    checked = np.zeros_like(seg)\n",
    "    \n",
    "    seg[seed] = True\n",
    "    checked[seed] = True\n",
    "    needs_check = get_nbhd_6(seed, checked, img.shape) # get neighborhood\n",
    "    while len(needs_check) > 0:\n",
    "        # processing points one by one\n",
    "        pt = needs_check.pop()\n",
    "        \n",
    "        # A point can be put in needs_check even if the point was already marked checked.\n",
    "        if checked[pt]:\n",
    "            continue\n",
    "        checked[pt] = True\n",
    "        \n",
    "        # Handle 6 borders\n",
    "        imin = max(pt[0]-t, 0)\n",
    "        imax = min(pt[0]+t, img.shape[0]-1)\n",
    "        jmin = max(pt[1]-t, 0)\n",
    "        jmax = min(pt[1]+t, img.shape[1]-1)\n",
    "        kmin = max(pt[2]-t, 0)\n",
    "        kmax = min(pt[2]+t, img.shape[2]-1)\n",
    "\n",
    "        # adapt the conditions below for paper?\n",
    "        if img[pt] >= img[imin:imax+1, jmin:jmax+1, kmin:kmax+1].mean():\n",
    "            # Include the voxel in the segmentation and\n",
    "            # add its neighbors to be checked.\n",
    "            seg[pt] = True\n",
    "#             print (pt)\n",
    "            needs_check += get_nbhd_6(pt, checked, img.shape)\n",
    "\n",
    "    return seg\n",
    "            "
   ]
  },
  {
   "cell_type": "code",
   "execution_count": 1,
   "metadata": {
    "code_folding": [],
    "collapsed": true
   },
   "outputs": [],
   "source": [
    "\"\"\"\n",
    "Implementation\n",
    "26 neighbors\n",
    "\"\"\"\n",
    "import numpy as np\n",
    "import itertools\n",
    "\n",
    "\n",
    "def get_nbhd_26(pt, checked, dims):\n",
    "    # object : 26 neighbor hood\n",
    "    nbhd = []\n",
    "    # check pt values whether in range or not\n",
    "    # search range\n",
    "    r = [-1,0,1]\n",
    "    moves = list(itertools.product(r,r,r))\n",
    "    moves.remove((0,0,0))\n",
    "    \n",
    "    for mv in moves:\n",
    "        if min((pt[0]+mv[0], pt[1]+mv[1], pt[2]+mv[2])) < 0:\n",
    "            continue\n",
    "        if (pt[0]+mv[0] > dims[0]-1) or (pt[1]+mv[1] > dims[1]-1) or (pt[2]+mv[2] > dims[2]-1):\n",
    "            continue\n",
    "        if not checked[pt[0]+mv[0], pt[1]+mv[1], pt[2]+mv[2]]:\n",
    "            nbhd.append((pt[0]+mv[0], pt[1]+mv[1], pt[2]+mv[2]))\n",
    "\n",
    "    return nbhd\n",
    "\n",
    "def grow26(img, seed, t):\n",
    "    \"\"\"\n",
    "    img  : ndarray, ndim=3\n",
    "    seed : tuple, len=3\n",
    "    t    : int, range of average value\n",
    "     The image neighborhood radius for the inclusion criteria\n",
    "    \"\"\"\n",
    "    # segmented and checked volume\n",
    "    seg = np.zeros(img.shape, dtype=np.bool)\n",
    "    checked = np.zeros_like(seg)\n",
    "    \n",
    "    seg[seed] = True\n",
    "    checked[seed] = True\n",
    "    needs_check = get_nbhd_26(seed, checked, img.shape) # get neighborhood\n",
    "    \n",
    "    while len(needs_check) > 0:\n",
    "        # processing points one by one\n",
    "        pt = needs_check.pop()\n",
    "        \n",
    "        # A point can be put in needs_check even if the point was already marked checked.\n",
    "        if checked[pt]:\n",
    "            continue\n",
    "        checked[pt] = True\n",
    "        \n",
    "        imin = max(pt[0]-t, 0)\n",
    "        imax = min(pt[0]+t, img.shape[0]-1)\n",
    "        jmin = max(pt[1]-t, 0)\n",
    "        jmax = min(pt[1]+t, img.shape[1]-1)\n",
    "        kmin = max(pt[2]-t, 0)\n",
    "        kmax = min(pt[2]+t, img.shape[2]-1)\n",
    "\n",
    "        # adapt each conditions below\n",
    "        if img[pt] >= img[imin:imax+1, jmin:jmax+1, kmin:kmax+1].mean():\n",
    "            # Include the voxel in the segmentation and\n",
    "            # add its neighbors to be checked.\n",
    "            seg[pt] = True\n",
    "            needs_check += get_nbhd_26(pt, checked, img.shape)\n",
    "\n",
    "    return seg\n",
    "            "
   ]
  },
  {
   "cell_type": "code",
   "execution_count": 12,
   "metadata": {
    "scrolled": false
   },
   "outputs": [
    {
     "data": {
      "image/png": "[encoded data removed]",
      "text/plain": [
       "<Figure size 432x288 with 1 Axes>"
      ]
     },
     "metadata": {},
     "output_type": "display_data"
    }
   ],
   "source": [
    "%matplotlib inline\n",
    "\"\"\"\n",
    "MIP Image\n",
    "Region Growing Execute\n",
    "\"\"\"\n",
    "import time\n",
    "import nibabel as nib\n",
    "import os,re\n",
    "from matplotlib import pyplot as plt\n",
    "data_path = os.getcwd() # assign data path\n",
    "\n",
    "# File name with file numbering\n",
    "files_with_num = [(file,int(re.search(r\"[0-9]+\",file).group(0))) for file in os.listdir(data_path) if re.match(r\"[0-9]*.nii\",file)]\n",
    "filenames = [f[0] for f in sorted(files_with_num, key=lambda x:x[1])]\n",
    "data = nib.load(data_path+filenames[0]).get_data().astype(int)\n",
    "\n",
    "# Convert slice values to only each max value (provisional)\n",
    "data_max = []\n",
    "for d in data.transpose()[:,]:\n",
    "    sl = np.zeros_like(d)\n",
    "    sl[d >= d.max()/2] = True\n",
    "    data_max.append(sl)\n",
    "data_max = np.asarray(data_max).transpose()\n",
    "\n",
    "seed = np.unravel_index(np.argmax(data_max), data_max.shape)\n",
    "plt.imshow(np.amax(data_max,axis=2))\n",
    "plt.show()"
   ]
  },
  {
   "cell_type": "code",
   "execution_count": 13,
   "metadata": {
    "scrolled": true
   },
   "outputs": [
    {
     "name": "stdout",
     "output_type": "stream",
     "text": [
      "Elapsed time: 0.245 seconds.\n"
     ]
    }
   ],
   "source": [
    "start = time.time()\n",
    "seg = grow26(data_max, seed, 5)\n",
    "stop = time.time()\n",
    "print(\"Elapsed time: %.3f seconds.\" % (stop - start))"
   ]
  },
  {
   "cell_type": "code",
   "execution_count": 14,
   "metadata": {},
   "outputs": [
    {
     "name": "stdout",
     "output_type": "stream",
     "text": [
      "CPU times: user 4.35 s, sys: 587 ms, total: 4.93 s\n",
      "Wall time: 10.8 s\n"
     ]
    }
   ],
   "source": [
    "%%time\n",
    "from mayavi import mlab\n",
    "src = mlab.pipeline.scalar_field(seg.astype(np.float))\n",
    "mlab.pipeline.iso_surface(src, contours=[0.7], opacity=0.5)\n",
    "mlab.show()"
   ]
  }
 ],
 "metadata": {
  "kernelspec": {
   "display_name": "py36",
   "language": "python",
   "name": "py36"
  },
  "language_info": {
   "codemirror_mode": {
    "name": "ipython",
    "version": 3
   },
   "file_extension": ".py",
   "mimetype": "text/x-python",
   "name": "python",
   "nbconvert_exporter": "python",
   "pygments_lexer": "ipython3",
   "version": "3.6.6"
  },
  "toc": {
   "base_numbering": 1,
   "nav_menu": {},
   "number_sections": true,
   "sideBar": true,
   "skip_h1_title": false,
   "title_cell": "Table of Contents",
   "title_sidebar": "Contents",
   "toc_cell": false,
   "toc_position": {},
   "toc_section_display": true,
   "toc_window_display": false
  }
 },
 "nbformat": 4,
 "nbformat_minor": 2
}
